{
  "nbformat": 4,
  "nbformat_minor": 0,
  "metadata": {
    "colab": {
      "name": "Assignment2.ipynb",
      "provenance": [],
      "collapsed_sections": [],
      "include_colab_link": true
    },
    "kernelspec": {
      "name": "python3",
      "display_name": "Python 3"
    }
  },
  "cells": [
    {
      "cell_type": "markdown",
      "metadata": {
        "id": "view-in-github",
        "colab_type": "text"
      },
      "source": [
        "<a href=\"https://colab.research.google.com/github/unmentioned/UTS_ML2019_ID97114033/blob/master/Assignment2.ipynb\" target=\"_parent\"><img src=\"https://colab.research.google.com/assets/colab-badge.svg\" alt=\"Open In Colab\"/></a>"
      ]
    },
    {
      "cell_type": "markdown",
      "metadata": {
        "id": "FqbXhf6i4PBj",
        "colab_type": "text"
      },
      "source": [
        "# Introduction\n",
        "\n",
        "For this report, a simple Support Vector Machine Algorithm will be implemented and tested. This algorithm will be able to classify a given data set into two classifications as per the main strengths of using a Support vector machine. As such, this implementation will not include multi class classification nor will it be able to solve non-linear separable datasets. \n",
        "\n"
      ]
    },
    {
      "cell_type": "markdown",
      "metadata": {
        "id": "kIXHApP5ABYJ",
        "colab_type": "text"
      },
      "source": [
        "# Algorithm Input / Output\n",
        "## Input:\n",
        "The algorithm will accept a dictionary of two keys. A 1 and an -1 where the value is an array of arrays which consist of 2 integer values (x and y coordinate) . As per the constraints of a linear Support Vector Machine, the training set must not contain any values that aren’t linearly possible.\n",
        "\n",
        "## Output:\n",
        "The algorithm will be built as a class which will include different methods to output the data. The prediction method will return an array of the input values inside an array with its classification added. For more visual results, a method is defined to plot the data into a graph with an option to include or exclude the training set.\n"
      ]
    },
    {
      "cell_type": "code",
      "metadata": {
        "id": "UMbnkBPKAAaR",
        "colab_type": "code",
        "colab": {}
      },
      "source": [
        "# Example of input and output data\n",
        "inputDataTraining = {\n",
        "1: [[2,3],[4,3],[3,4],[2,1]],\n",
        "-1: [[-2,-3],[-2,-5],[-5,-3],[-5,-3]],\n",
        "}\n",
        "\n",
        "InputDataPrediction = [\n",
        "    [2,3],\n",
        "    [4,3],\n",
        "    [3,4],\n",
        "    [2,1]\n",
        "]\n",
        "\n",
        "OutputData = [\n",
        "    [[-1,-3],-1],\n",
        "    [[1,2],1],\n",
        "    [[3,4],1],\n",
        "    [[-5,-4],-1]\n",
        "]"
      ],
      "execution_count": 0,
      "outputs": []
    },
    {
      "cell_type": "markdown",
      "metadata": {
        "id": "bRUmyHjGD3MW",
        "colab_type": "text"
      },
      "source": [
        "# Exploration\n",
        "## Data Structure Design\n",
        "To implement the data structure for this algorithm a class will be used to define the entire algorithm where the core logic will be logically separated into different functions and methods. As this algorithm is relatively simple, there isn’t too many functions aside from a few vital functions.\n",
        "\n",
        "### Class SVM\n",
        "Contains all the functions related to the implementation of this algorithm\n",
        "\n",
        "### trainModel\n",
        "**Parameters**:\n",
        "\n",
        "*InputData: Dictionary*\n",
        "\n",
        "**Return**:\n",
        "None\n",
        "\n",
        "Contains the code to train the model, requires the training data to begin training. This function will accept a dictionary of two keys which are 1 and -1. These values are essentially the classification values. The two keys holds an array of arrays. See code example above for exact data structure.\n",
        "\n",
        "### predictModel\n",
        "**Parameters**:\n",
        "\n",
        "*InputData: Array*\n",
        "\n",
        "**Return**:\n",
        "Array\n",
        "\n",
        "Contains the code to classify the input data into their respective classifications, returns the input data set, with a classification for each element.\n",
        "\n",
        "### plotGraph\n",
        "**Parameters**:\n",
        "\n",
        "*omitTraining: Boolean*\n",
        "\n",
        "**Return**:\n",
        "None\n",
        "\n",
        "Purely for visually representing the training, prediction and hyperplanes. Also takes in an optional parameter to not plot the training data points into the graph\n",
        "\n",
        "\n",
        "## Data Model\n",
        "For an SVM, the main concept is to define a hyperplane from the feature space which can linearly separate the two dataset classifications. This is based on the formula f(x) = wx + b, where w is the norm, x is the feature vector and b is the bias. As we are dealing with vectors, the data model should be iterable and can contain values(the x and y values). As such it is best to use a array of array to store the data set of vectors for the training and prediction set, as there is no advantage in using a dictionary key over a an array index. \n",
        "\n",
        "For the training set, a dictionary will be useful for assigning each classification a key, where its value will be an array of values under the respective classification.\n",
        "\n"
      ]
    },
    {
      "cell_type": "markdown",
      "metadata": {
        "id": "Z0yKDSimTrTc",
        "colab_type": "text"
      },
      "source": [
        "# Data Methodology"
      ]
    },
    {
      "cell_type": "code",
      "metadata": {
        "id": "PvyXq0mS-8sh",
        "colab_type": "code",
        "outputId": "1495832b-8b4d-4bfd-c16b-2378030ce9be",
        "colab": {
          "base_uri": "https://localhost:8080/",
          "height": 474
        }
      },
      "source": [
        "import matplotlib.pyplot as pit\n",
        "from matplotlib import style\n",
        "import numpy as np\n",
        "from sklearn.datasets.samples_generator import make_blobs\n",
        "style.use('classic')\n",
        "\n",
        "\n",
        "\n",
        "#Define the SVM class\n",
        "class SVM:\n",
        "\t\n",
        "    #Initialize some class variables\n",
        "    def __init__(self):\n",
        "        self.figure = pit.figure()\n",
        "        self.ax = self.figure.add_subplot(1,1,1)\n",
        "       \n",
        "    #Training method\n",
        "    #Main goal of this method is to find wx + b\n",
        "    def trainModel(self,trainingData):\n",
        "        self.dataSet = trainingData\n",
        "    \n",
        "    # { ||w||:[w,b]}\n",
        "        wMagnitude = {}\n",
        "        transforms = [\n",
        "            [1,1],\n",
        "            [-1,1],\n",
        "            [-1,-1],\n",
        "            [1,-1]\n",
        "        ]\n",
        "    \n",
        "        allData = []\n",
        "        # Convert dictionary to an array to find largest and smallest data value\n",
        "        for y in self.dataSet:\n",
        "            for classificationSet in self.dataSet[y]:\n",
        "                for element in classificationSet:\n",
        "                    allData.append(element)\n",
        "          \n",
        "        #Optimize the algorithm by limiting the data range to these boundaries\n",
        "        self.maxFeatureValue = max(allData)\n",
        "        self.minFeatureValue = min(allData)\n",
        "    \n",
        "        stepSizes = [self.maxFeatureValue * 0.1,\n",
        "              self.maxFeatureValue * 0.01,\n",
        "              self.maxFeatureValue * 0.001]\n",
        "    \n",
        "        RangeMultiple = 5\n",
        "        \n",
        "        multiple = 5\n",
        "        latestOptimum = self.maxFeatureValue*10\n",
        "    \n",
        "        for step in stepSizes:\n",
        "            w = np.array([latestOptimum,latestOptimum])\n",
        "            unoptimized = True \n",
        "            # Repeats until optimization\n",
        "            while unoptimized:\n",
        "                for b in np.arange(( self.maxFeatureValue*RangeMultiple)*-1,\n",
        "                                   self.maxFeatureValue*RangeMultiple,\n",
        "                                   step*multiple):\n",
        "                    for transform in transforms:\n",
        "                        wt = w*transform\n",
        "                        foundOption = True\n",
        "                        for i in self.dataSet:\n",
        "                            for x in self.dataSet[i]:\n",
        "                                y = i\n",
        "                                \n",
        "                                # Stop execution here as data set is not linearly seperable\n",
        "                                if not (y*(np.dot(wt,x)+b) >= 1):\n",
        "                                    foundOption = False\n",
        "                                    # Could potentially add kernel function here in the future\n",
        "                                    break;\n",
        "                        if foundOption:\n",
        "                            # Caculate Vector magnitude\n",
        "                            wMagnitude[np.linalg.norm(wt)] = [wt,b]\n",
        "\n",
        "                if w[0] < 0:\n",
        "                    unoptimized = False\n",
        "                else:\n",
        "                    w = w - step\n",
        "            norms = sorted([n for n in wMagnitude])\n",
        "            optChoice = wMagnitude[norms[0]]\n",
        "            self.w = optChoice[0]\n",
        "            self.b = optChoice[1]\n",
        "            latestOptimum = optChoice[0][0]+ step*2      \n",
        "      \n",
        "    # Method to perform prediction on dataset\n",
        "    def predictModel(self,predictionData):\n",
        "        colors = {1:'r',-1:'b'}\n",
        "        result = [];\n",
        "\n",
        "        #Iterate through each feature\n",
        "        for i in predictionData:\n",
        "            #Get the sign of the dot product between the feature and decision bounrdary vector\n",
        "            classification = np.sign(np.dot(np.array(i),self.w)+self.b)\n",
        "            ## If its not equal to the boundary \n",
        "            if not (classification ==0):\n",
        "                self.ax.scatter(i[0], i[1], s=100,marker='*', c=colors[classification])\n",
        "                #Appends the current feature space and its classification to result array\n",
        "                result.append([i,classification])\n",
        "        # Return dataset with classification\n",
        "        return result\n",
        "\n",
        "       #Method to plot the values and hyper planes\n",
        "    def plotGraph(self,omitTraining=False):\n",
        "        colors = {1:'r',-1:'b'}\n",
        "        if not omitTraining:\n",
        "            for i in trainingSet:\n",
        "                for x in trainingSet[i]:\n",
        "                    self.ax.scatter(x[0],x[1],s=50,color=colors[i])\n",
        "        \n",
        "        #Plots 3 hyperplanes, the decision boundary as well as the lower and upper margin\n",
        "\n",
        "        #Simple function to just calculate the hyperplane values\n",
        "        def hyperplane(x,w,b,v):\n",
        "            return (-w[0]*x-b+v) / w[1]\n",
        "        minValue = self.minFeatureValue\n",
        "        maxValue = self.maxFeatureValue\n",
        "        w = self.w\n",
        "        b = self.b\n",
        "        \n",
        "        # Plots the upper / positive hyperplane\n",
        "        self.ax.plot(\n",
        "            [minValue,maxValue],\n",
        "            [hyperplane(minValue, w,b, 1),\n",
        "             hyperplane(maxValue, w,b, 1)],\n",
        "            color='red')\n",
        "        \n",
        "        # Plots the lower / negative hyperplane\n",
        "        self.ax.plot(\n",
        "            [minValue,maxValue],\n",
        "            [hyperplane(minValue, w,b, -1),\n",
        "             hyperplane(maxValue, w,b, -1)],\n",
        "            color='blue')\n",
        "\n",
        "        # Plots the Decision boundary\n",
        "        self.ax.plot(\n",
        "            [minValue,maxValue],\n",
        "            [hyperplane(minValue, w,b, 0),\n",
        "             hyperplane(maxValue, w,b, 0)],\n",
        "            color='black')\n",
        "\n",
        "        pit.show()\n",
        "    \n",
        "# Standard deviation for trainingSet\n",
        "# Do not set higher than 4 as this could cause cluster to overlap\n",
        "clustersDeviation = [3]\n",
        "\n",
        "n_samples = 50\n",
        "\n",
        "# Create two blobs for each classification\n",
        "Xn,yn = make_blobs(n_samples=int(float(n_samples/2)), cluster_std=clustersDeviation, centers=[(-5,-5)] ,n_features=1,random_state=1)\n",
        "Xp,yp = make_blobs(n_samples=int(float(n_samples/2)), cluster_std=clustersDeviation, centers=[(5,5)] ,n_features=1,random_state=1)\n",
        "\n",
        "# Aggregate blobs into a dictionary for training\n",
        "trainingSet = {\n",
        "    -1:Xn,\n",
        "    1:Xp\n",
        "}\n",
        "\n",
        "svm = SVM()\n",
        "svm.trainModel(trainingData=trainingSet)\n",
        "\n",
        "# create prediction dataset \n",
        "predictionSet, y = make_blobs(n_samples=20, cluster_std=6, centers=[(0,0)])\n",
        "\n",
        "# Start Prediction\n",
        "%time svm.predictModel(predictionSet)\n",
        "\n",
        "svm.plotGraph(omitTraining=False)\n",
        "\n",
        "\n"
      ],
      "execution_count": 4,
      "outputs": [
        {
          "output_type": "stream",
          "text": [
            "CPU times: user 62.3 ms, sys: 37 ms, total: 99.3 ms\n",
            "Wall time: 50.6 ms\n"
          ],
          "name": "stdout"
        },
        {
          "output_type": "display_data",
          "data": {
            "image/png": "[encoded data removed]",
            "text/plain": [
              "<Figure size 640x480 with 1 Axes>"
            ]
          },
          "metadata": {
            "tags": []
          }
        }
      ]
    },
    {
      "cell_type": "markdown",
      "metadata": {
        "id": "H5uwGzM6grey",
        "colab_type": "text"
      },
      "source": [
        "# Evaulation\n",
        "From executing the above code, the graph produced shows that the hyperplane is correctly classifying each prediction feature to its classification. In cases where the training data set is not linearly seperable, the code will fail as intended. \n",
        "\n",
        "\n",
        "## Training Time Performance\n",
        "A common disadvantage of SVM's is the long training times for large datasets. Below are the results of running this algorithm over different sample sizes(Note that below times are the result of only training).\n",
        "\n",
        "\n",
        "* Sample Size: Time\n",
        "*   10 : 4.35s\n",
        "*   50: 15.6s\n",
        "*   100: 29.5s\n",
        "*   200: 55.9s\n",
        "*   500: 3min 50s\n",
        "*   1000: 6min 43s\n",
        "\n",
        "Each result was ran 3 times where the above results are the average. As seen from the above results, as the dataset increases the training time increases quite heavily. As such this algorithm should not be used for larger datasets.\n",
        "    \n",
        "\n",
        "\n",
        "## Prediction Time Performance\n",
        "Although the training time is very poor as the data set size increases, a SVM has the advnatage of having fast prediction times. As the SVM already knows the value of w and b, the result is simply a matter of performing a dot product on each sample. The below results are a result of timing the prediction function with varying sample sizes.\n",
        "\n",
        "* Sample Size: Time\n",
        "*   10: 28.1ms\n",
        "*   50: 150ms\n",
        "*   100: 270ms\n",
        "*   200: 463ms\n",
        "*   500: 1.48s\n",
        "*   1000: 2.57s\n",
        "\n",
        "As seen from the above result, the time performance of prediction is much more consistent in performance than the training time. "
      ]
    },
    {
      "cell_type": "markdown",
      "metadata": {
        "id": "GsCjW3BnGGgu",
        "colab_type": "text"
      },
      "source": [
        "![alt text](https://docs.google.com/uc?export=download&id=1B08ZdAYqKPFJDxwNPmsbq_IztbhFAX9F)"
      ]
    },
    {
      "cell_type": "markdown",
      "metadata": {
        "id": "PaU4VHWs0X0U",
        "colab_type": "text"
      },
      "source": [
        "# Conclusion\n",
        "In conclusion to this report, the SVM's implmentation behaved as expected in terms of performance where training time was quite long compared to the prediction processing. However, there are several improvements that could be made to improve this algorithm, as currently, this algorithm cannot solve linearly inseperable problems. In the future, this aglorithm could be expanded to solve non-linear problems by utilising Kernel functions. \n",
        "\n",
        "Additionally the algorithm could be further improved by the use soft margins instead of hard margins. As hard margins cause the aglorithm to fail when there is at least one error or outlier, the use of soft margins could potentially allow the algorithm to continue the training process with some tolerance for errors."
      ]
    },
    {
      "cell_type": "markdown",
      "metadata": {
        "id": "xKlqKYzn3In4",
        "colab_type": "text"
      },
      "source": [
        "# Ethical\n",
        "\n",
        "As SVM has quite a few applications in the world today, this also leads to some ethical issues as to its use. Some of the popular uses of SVM's include face detection, handwriting recognition and bioinformatics. While the SVM or machine learning in general does not pose any ethical/moral concerns, its use for different applications may pose some serious concerns particularly on privacy. \n",
        "\n",
        "A particular problem with the SVM is that fact that it is considered a \"black box\" machine learning algorithm. As a SVM can quite potentially work on multiple dimensions which makes understanding the internal workings extremely difficult, whereas a decision tree is straightforward. Because an SVM obfuscates its internal processing, this could cause potential problems when the process needs to be understood. For example, a SVM could misclassify a person for a specific disease or genome. As misdiagnosis is a fairly serious ordeal this prompts the question whether the agorithm is at fault which can't be found due to its obfuscation.\n",
        "\n",
        "Although it is not known if the particular machine learning algorithm was an SVM or not, there was a case where Google images, image recognition algorithm mistakingly classified Africans as \"Gorillas\". This is an example of how a mistake in a machine learning algorithm can unintentially cause public outrage."
      ]
    },
    {
      "cell_type": "markdown",
      "metadata": {
        "id": "oxQcJmPxYn0S",
        "colab_type": "text"
      },
      "source": [
        "# Links\n",
        "### Youtube\n",
        "URL: https://youtu.be/A-dcl6CH394 \n",
        "\n",
        "plainText: `https://youtu.be/A-dcl6CH394`\n",
        "\n",
        "### Github/Colab: \n",
        "\n",
        "https://github.com/unmentioned/UTS_ML2019_ID97114033/blob/master/Assignment2.ipynb \n",
        "\n",
        "`https://github.com/unmentioned/UTS_ML2019_ID97114033/blob/master/Assignment2.ipynb`"
      ]
    }
  ]
}