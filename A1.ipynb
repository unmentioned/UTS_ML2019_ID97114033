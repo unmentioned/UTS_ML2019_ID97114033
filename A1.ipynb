{
  "nbformat": 4,
  "nbformat_minor": 0,
  "metadata": {
    "colab": {
      "name": "A1.ipynb",
      "version": "0.3.2",
      "provenance": [],
      "include_colab_link": true
    },
    "kernelspec": {
      "name": "python3",
      "display_name": "Python 3"
    }
  },
  "cells": [
    {
      "cell_type": "markdown",
      "metadata": {
        "id": "view-in-github",
        "colab_type": "text"
      },
      "source": [
        "<a href=\"https://colab.research.google.com/github/unmentioned/UTS_ML2019_ID97114033/blob/master/A1.ipynb\" target=\"_parent\"><img src=\"https://colab.research.google.com/assets/colab-badge.svg\" alt=\"Open In Colab\"/></a>"
      ]
    },
    {
      "cell_type": "code",
      "metadata": {
        "id": "qIHLAVYiVeiR",
        "colab_type": "code",
        "colab": {}
      },
      "source": [
        ""
      ],
      "execution_count": 0,
      "outputs": []
    },
    {
      "cell_type": "markdown",
      "metadata": {
        "id": "l1nh34yYVfQE",
        "colab_type": "text"
      },
      "source": [
        "Assignment 1\n"
      ]
    },
    {
      "cell_type": "markdown",
      "metadata": {
        "id": "n6TEusWCVoho",
        "colab_type": "text"
      },
      "source": [
        "Introduction"
      ]
    },
    {
      "cell_type": "code",
      "metadata": {
        "id": "mNPBc5g7H7Cw",
        "colab_type": "code",
        "colab": {}
      },
      "source": [
        ""
      ],
      "execution_count": 0,
      "outputs": []
    },
    {
      "cell_type": "markdown",
      "metadata": {
        "id": "WKtlDCuIVo4N",
        "colab_type": "text"
      },
      "source": [
        "Content"
      ]
    },
    {
      "cell_type": "markdown",
      "metadata": {
        "id": "LemfVjxPVpC3",
        "colab_type": "text"
      },
      "source": [
        "Innovation"
      ]
    },
    {
      "cell_type": "markdown",
      "metadata": {
        "id": "6PCNODNBVpJy",
        "colab_type": "text"
      },
      "source": [
        "Technical Quality"
      ]
    },
    {
      "cell_type": "markdown",
      "metadata": {
        "id": "PJloRWZMV8dM",
        "colab_type": "text"
      },
      "source": [
        "Application and X-Factor"
      ]
    },
    {
      "cell_type": "markdown",
      "metadata": {
        "id": "46x95kTtV-4x",
        "colab_type": "text"
      },
      "source": [
        "Presentation"
      ]
    },
    {
      "cell_type": "markdown",
      "metadata": {
        "id": "rRQTbjkgWBYV",
        "colab_type": "text"
      },
      "source": [
        "References\n"
      ]
    }
  ]
}